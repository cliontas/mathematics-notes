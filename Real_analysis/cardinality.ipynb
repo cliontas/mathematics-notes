{
 "cells": [
  {
   "cell_type": "markdown",
   "id": "0",
   "metadata": {},
   "source": [
    "### Exercise\n",
    "\n",
    "Find a bijection between $[0,1]$ and $(0,1)$."
   ]
  },
  {
   "cell_type": "markdown",
   "id": "1",
   "metadata": {},
   "source": [
    "### Solution"
   ]
  },
  {
   "cell_type": "markdown",
   "id": "2",
   "metadata": {},
   "source": [
    "Let us first state some propositions that will help us:\n",
    "\n",
    "1. There is a bijection $f:(a,b)\\to(c,d)$ for whatever $a<b$ and $c<d$ finite real numbers. \n",
    "\n",
    "Proof: Let $f(x)=px+q$. We need\n",
    "$$\n",
    "\\begin{align*}\n",
    "pa+q=c\\\\\n",
    "pb+q=d\n",
    "\\end{align*}\n",
    "$$\n",
    "Hence $p=\\frac{c-d}{a-b}$ and $q=c-a\\frac{c-d}{a-b}$,\n",
    "$$\n",
    "f(x)=\\frac{c-d}{a-b}(x-a)+c.\n",
    "$$\n",
    "The fact that $f$ is injective is obvious. Let us prove that it is also surjective. For this we need to prove that if \n",
    "$$\n",
    "y=\\frac{c-d}{a-b}(x-a)+c\n",
    "$$\n",
    "then $x\\in(a,b)$. We have\n",
    "$$\n",
    "x = a+\\frac{a-b}{c-d}(y-c)\n",
    "$$\n",
    "\n",
    "Since $y>c$, we have $\\frac{a-b}{c-d}(y-c)>0$, hence $x>a$.\n",
    "\n",
    "Since $y<d$, we have $y-c<d-c$, hence $\\frac{a-b}{c-d}(y-c)<\\frac{a-b}{c-d}(d-c)=b-a$. Thus $x<a+b-a=a$. This concludes surjectivity.\n",
    "\n",
    "The same procedure can be used to prove that there is always a bijection between\n",
    "* $[a,b]$ and $[c,d]$\n",
    "* $[a,b)$ and $[c,d)$\n",
    "* $(a,b]$ and $(c,d]$"
   ]
  },
  {
   "cell_type": "markdown",
   "id": "3",
   "metadata": {},
   "source": [
    "2. The composition of bijections is also a bijection.\n",
    "\n",
    "Proof: Let $f$ be a bijection between $A$ and $B$, and let $g$ be a bijection between $B$ and $C$. We define $g\\circ f: A\\to C$ as $g(f(x))$, $\\forall x\\in A$.\n",
    "\n",
    "If $g(f(x_1))=g(f(x_2))$, then due to the fact that $g$ is a bijection, $f(x_1)=f(x_2)$, and since $f$ also a bijection, $x_1=x_2$. This proves that $g\\circ f$ is injective. Now, let us prove that it is also surjective. If $z\\in C$, then there is $y\\in B$ such that $g(y)=z$. Furthermore, since there is a $x\\in A$ such that $f(x)=y$. Hence $g(f(x))=z\\Leftrightarrow (g\\circ f)(x)=z$"
   ]
  },
  {
   "cell_type": "markdown",
   "id": "4",
   "metadata": {},
   "source": [
    "3. If $f_i:A_i\\to B_i$ is a family of bijections between pairs of sets $(A_i, B_i)$ for $i\\in I$ (Where $I$ some indexing set) and if $A_i\\cap A_j=\\varnothing$, $B_i\\cap B_j=\\varnothing$ for $i,j \\in I$, then the following is a bijection between $\\cup_{i\\in I}A_i$ and $\\cup_{i\\in I}B_i$\n",
    "\n",
    "$$\n",
    "f(x)=f_i(x)\\quad\\text{if}\\quad x\\in A_i\n",
    "$$\n",
    "\n",
    "Proof: Is kind of obvious :)"
   ]
  },
  {
   "cell_type": "markdown",
   "id": "5",
   "metadata": {},
   "source": [
    "Now, let us first construct a bijection between $[0, \\frac{1}{2})$ and $\\mathbb{R}$."
   ]
  },
  {
   "cell_type": "markdown",
   "id": "6",
   "metadata": {},
   "source": [
    "Let us consider the set of geometrically shrinking intervals $[0,\\frac{1}{4})$, $[\\frac{1}{4},\\frac{1}{4}+\\frac{1}{8}), \\dots$. I.e. in general we have the set of intervals $[s_{n}, s_{n+1})$, where $s_0=0$ and \n",
    "$$\n",
    "s_n=\\sum_{k=1}^n\\frac{1}{2}\\frac{1}{2^k}=\\sum_{k=0}^n\\frac{1}{2}\\frac{1}{2^k}-\\frac{1}{2}=\\frac{1}{2}\\frac{1-(1/2)^{n+1}}{1-(1/2)}-\\frac{1}{2}=\\frac{1}{2}-\\frac{1}{2^{n+1}}\n",
    "$$"
   ]
  },
  {
   "cell_type": "markdown",
   "id": "7",
   "metadata": {},
   "source": [
    "Now, according to the first proposition we can construct the following bijections for $k=0,1,2,\\dots$:\n",
    "\n",
    "$$\n",
    "\\begin{align*}\n",
    "f_{2k}&:[s_{2k}, s_{2k+1})&\\to &[k, k+1)\\\\\n",
    "f_{2k+1}&:[s_{2k+1}, s_{2k+2})&\\to &[-k-1, k)\\\\\n",
    "\\end{align*}\n",
    "$$"
   ]
  },
  {
   "cell_type": "markdown",
   "id": "8",
   "metadata": {},
   "source": [
    "Thus, we have a family of bijections from mutually exclusive sets whose union is $\\cup_{k\\in\\mathbb{N}}[s_{n}, s_{n+1})=[0,\\frac{1}{2})$ to the mutually exclusive sets whose union is $\\cup_{k\\in\\mathbb{N}}[k, k+1)\\cup[-k-1,k)=\\mathbb{R}$. According to our third proposition, this yields a bijection $f:[0,\\frac{1}{2})\\to\\mathbb{R}$."
   ]
  },
  {
   "cell_type": "markdown",
   "id": "9",
   "metadata": {},
   "source": [
    "Now, let us construct a bijection from $\\mathbb{R}$ to $(0,\\frac{1}{2})$. One just needs a sigmoid function centered at $(0,1/4)$. There is an infinite family of such functions. The most simple is a branched rational function:\n",
    "\n",
    "$$\n",
    "g(x)=\n",
    "\\begin{cases}\n",
    "\\frac{1}{4}\\left(2-\\frac{1}{1+x}\\right),\\quad x\\geq 0\\\\\n",
    "\\frac{1}{4}\\frac{1}{1-x},\\quad x<0\n",
    "\\end{cases}\n",
    "$$"
   ]
  },
  {
   "cell_type": "code",
   "execution_count": null,
   "id": "10",
   "metadata": {},
   "outputs": [],
   "source": [
    "import numpy as np\n",
    "\n",
    "import matplotlib.pyplot as plt"
   ]
  },
  {
   "cell_type": "code",
   "execution_count": null,
   "id": "11",
   "metadata": {},
   "outputs": [],
   "source": [
    "x1 = np.linspace(0, 10, 100)\n",
    "y1 = 0.5-0.25/(1+x1)\n",
    "x2 = np.linspace(-10, 0, 100)\n",
    "y2 = 0.25/(1-x2)\n",
    "\n",
    "fig, ax = plt.subplots()\n",
    "ax.plot(x1, y1)\n",
    "ax.plot(x2, y2)\n",
    "ax.grid(True)\n",
    "plt.show()"
   ]
  },
  {
   "cell_type": "markdown",
   "id": "12",
   "metadata": {},
   "source": [
    "Thus, according to proposition 2, $h(x) = (g\\circ f)(x)$ is a bijection from $[0,\\frac{1}{2})$ to $(0,\\frac{1}{2})$.\n",
    "\n",
    "According to the same proposition $h(1-x)$ is a bijection from $(\\frac{1}{2},1]$ to $(0,\\frac{1}{2})$, hence $h(1-x)+\\frac{1}{2}$ is a bijection from $(\\frac{1}{2},1]$ to $(\\frac{1}{2},1)$. Hence, the final bijection from $[0,1]$ to $(0,1)$ is\n",
    "\n",
    "$$\n",
    "\\begin{cases}\n",
    "h(x),\\quad x\\in[0,\\frac{1}{2})\\\\\n",
    "\\frac{1}{2},\\quad x=\\frac{1}{2}\\\\\n",
    "h(1-x)+\\frac{1}{2}, \\quad x\\in (\\frac{1}{2},1]\n",
    "\\end{cases}\n",
    "$$"
   ]
  },
  {
   "cell_type": "markdown",
   "id": "13",
   "metadata": {},
   "source": []
  }
 ],
 "metadata": {
  "kernelspec": {
   "display_name": "simnibs_env",
   "language": "python",
   "name": "python3"
  },
  "language_info": {
   "codemirror_mode": {
    "name": "ipython",
    "version": 3
   },
   "file_extension": ".py",
   "mimetype": "text/x-python",
   "name": "python",
   "nbconvert_exporter": "python",
   "pygments_lexer": "ipython3",
   "version": "3.9.18"
  }
 },
 "nbformat": 4,
 "nbformat_minor": 5
}
