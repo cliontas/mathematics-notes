{
 "cells": [
  {
   "cell_type": "markdown",
   "id": "0",
   "metadata": {},
   "source": [
    "$$\n",
    "\\renewcommand{\\R}{\\mathbb{R}}\n",
    "\\newcommand{\\inner}[2]{\\langle #1, #2 \\rangle}\n",
    "\\newcommand{\\un}[1]{\\hat{\\mathrm{#1}}}\n",
    "\\newcommand{\\bv}[1]{\\mathrm{#1}}\n",
    "\\newcommand{\\norm}[1]{\\left\\|{#1}\\right\\|}\n",
    "$$\n"
   ]
  },
  {
   "cell_type": "markdown",
   "id": "1",
   "metadata": {},
   "source": [
    "# Finite Dimensional Vector Spaces"
   ]
  },
  {
   "cell_type": "markdown",
   "id": "2",
   "metadata": {},
   "source": [
    "## Chapter 1"
   ]
  },
  {
   "cell_type": "markdown",
   "id": "3",
   "metadata": {},
   "source": [
    "### Fields"
   ]
  },
  {
   "cell_type": "markdown",
   "id": "4",
   "metadata": {},
   "source": [
    "#### Axioms:"
   ]
  },
  {
   "cell_type": "markdown",
   "id": "5",
   "metadata": {},
   "source": [
    "* $a+b=b+a$\n",
    "* $a+(b+c)=(a+b)+c$\n",
    "* $\\exists \\text{ unique element } 0: a+0=a$, $\\forall a\\in F$\n",
    "* $\\forall a\\in F$ there is a unique element symbolized $-a\\in F$ such that $a+(-a)=0$\n",
    "* $ab=ba$\n",
    "* $a(bc)=(ab)c$\n",
    "* $\\exists \\text{ unique element 1 }: a1=a, \\forall a\\in F$\n",
    "* $\\forall a\\neq0$ there is a unique element $a^{-1}\\equiv 1/a$ such that $aa^{-1}=1$.\n",
    "* $a(b+c)=ab+ac$"
   ]
  },
  {
   "cell_type": "markdown",
   "id": "6",
   "metadata": {},
   "source": [
    "#### Exercise 1"
   ]
  },
  {
   "cell_type": "markdown",
   "id": "7",
   "metadata": {},
   "source": [
    "(a) Prove that $0+a=a$.\n",
    "\n",
    "We have $0+a=a+0=a$. $\\square$\n",
    "\n",
    "(b) Prove that $a+b=a+c\\Rightarrow b=c$.\n",
    "\n",
    "$$\n",
    "\\begin{align*}\n",
    "b &= 0+b=\\\\\n",
    "&= [(-a)+a]+b=\\\\\n",
    "&= (-a)+(a+b)=\\\\\n",
    "&= (-a)+(a+c)=\\\\\n",
    "&= [(-a)+a]+c=\\\\\n",
    "&= 0+c=\\\\\n",
    "&=c.\\quad\\square\n",
    "\\end{align*}\n",
    "$$\n",
    "\n",
    "(c) Prove that $a+(b-a)=b$\n",
    "\n",
    "$$\n",
    "a+(b-a)=a+[(-a)+b]=[a+(-a)]+b=0+b=b.\\quad\\square\n",
    "$$\n",
    "\n",
    "(d) Prove that $0\\cdot a =a\\cdot 0=0$.\n",
    "\n",
    "For an arbitrary $b\\in F$ we have\n",
    "\n",
    "$$\n",
    "\\begin{gather*}\n",
    "a\\cdot 0=(-a+a)+a0=(-a+a1)+a0=-a+(a1+a0)=\\\\\n",
    "=-a+a(1+0)=-a+a1=-a+a=0\n",
    "\\end{gather*}\n",
    "$$\n",
    "\n",
    "Moreover $0a=a0=0$. $\\square$\n",
    "\n",
    "(e) Prove that $(-1)a=-a$.\n",
    "\n",
    "$$\n",
    "(-1)a+a=a(-1)+a1=a[(-1)+1]=a0=0,\n",
    "$$\n",
    "\n",
    "hence the unique opposite of $a$, noted as $-a$ is equal to $(-1)a$. $\\square$\n",
    "\n",
    "(f) Prove that $(-a)(-b)=ab$.\n",
    "\n",
    "$$\n",
    "(-a)(-b)=[a(-1)](- b )=a[(-1)(-b)]=a(-(-b))=ab\\quad\\square\n",
    "$$\n",
    "\n",
    "(g) Prove that if $ab=0$ then $a=0$ or $b=0$ or both.\n",
    "\n",
    "If $a\\neq 0$, there is $a^{-1}$ such that $aa^{-1}=1$. Hence\n",
    "\n",
    "$$\n",
    "b = 1b = (aa^{-1})b = (a^{-1}a)b=a^{-1}(ab)=a^{-1}0=0.\n",
    "$$\n",
    "\n",
    "Likewise, if $b\\neq 0$ we can prove that $a=0$. $\\square$"
   ]
  },
  {
   "cell_type": "markdown",
   "id": "8",
   "metadata": {},
   "source": [
    "#### Exercise 2\n",
    "\n",
    "(a) Is the set of all positive integers a field?\n",
    "\n",
    "No, since there is no opposite element for addition except for 0.\n",
    "\n",
    "(b) Is the set of all integers a field?\n",
    "\n",
    "No, since there is no inverse element for multiplication, except for 1.\n",
    "\n",
    "(c) Can the answer to these questions be changed if we redefine addition or multiplication or both?\n",
    "\n",
    "We know that there is a bijection between $\\mathbb{N}^*$ and $\\mathbb{Q}$, since both sets are countable. Let $f$ be the bijection $f:\\mathbb{N}^*\\to\\mathbb{Q}$"
   ]
  },
  {
   "cell_type": "markdown",
   "id": "9",
   "metadata": {},
   "source": [
    "We define addition and multiplication in $\\mathbb{N}^*$ as\n",
    "$$\n",
    "\\begin{align*}\n",
    "a\\oplus b = f^{-1}(f(a)+f(b))\\\\\n",
    "a\\odot b = f^{-1}(f(ab))\n",
    "\\end{align*}\n",
    "$$\n",
    "Commutativity is obvious. Let's check for associativity:\n",
    "\n",
    "$$\n",
    "a\\oplus(b\\oplus c)=f^{-1}(f(a)+f(f^{-1}(f(b)+f(c))))=f^{-1}(f(a)+f(b)+f(c))=(a\\oplus b)\\oplus c\n",
    "$$\n",
    "\n",
    "The same argument holds for mutliplication.\n",
    "\n",
    "We define the neutral elements as $O=f^{-1}(0)$ and $I=f^{-1}(1)$. We have\n",
    "$$\n",
    "O\\oplus n = f^{-1}(f(f^{-1}(0))+f(n))=f^{-1}(0+f(n))=n\n",
    "$$\n",
    "Existence of inverse element:\n",
    "$$\n",
    "f^{-1}(-f(n))\\oplus n = f^{-1}(f(f^{-1}(-f(n)))+f(n))=f^{-1}(-f(n)+f(n))=f^{-1}(0)=O.\n",
    "$$\n",
    "\n",
    "Similar arguments should hold for multiplication, but I don't have the time to verify them.\n",
    "\n",
    "Finally, distributivity:\n",
    "$$\n",
    "a\\odot(b\\oplus c) = f^{-1}(f(a)f(b\\oplus c))=f^{-1}(f(a)f(f^{-1}(f(b)+f(c)))=f^{-1}(f(a)(f(b)+f(c)))=f^{-1}(f(a)f(b)+f(b)f(c))\n",
    "$$\n",
    "\n",
    "$$\n",
    "(a\\odot b)\\oplus (a\\odot c) = f^{-1}(f((a\\odot b)+f((a\\odot b))=f^{-1}(f(a)f(b)+f(b)f(c))\n",
    "$$\n",
    "Thus distributivity holds too. Therefore by redefining addition and multiplication in the above manner (creating an isomorphism between any countable set and $\\mathbb{Q}$) we can create a field for any countable set."
   ]
  },
  {
   "cell_type": "markdown",
   "id": "10",
   "metadata": {},
   "source": [
    "#### Exercise 3\n",
    "$\\mathcal{Z}_m=\\{0,1,2,\\dots, m-1\\}$, with $a\\oplus b=(a+b)\\mod m$ and $a\\odot b=ab\\mod m$. Prove that $\\mathcal{Z}_m$ is a field if and only if $m$ is prime.\n",
    "\n",
    "Commutativity is evident both for multiplication and addition for any $m$. \n",
    "\n",
    "Associativity: let $a+b=km+r$ and $b+c=lm+q$. We have $r+c= a+b-km+c$ and $a+q=a+b+c-lm$. Let $a+b+c=nm+p$. Then $r+c = (n-k)m+p$ and the least positive remainder is $p$. Same, for $a+q=(n-l)m+p$ the least positive remainder is $p$\n",
    "\n",
    "For multiplication let $ab=km+r$ and $bc=lm+q$. We have $rc = (ab-km)c=abc-kmc$ and $aq = a(bc-lm)=abc-alm$. Now, let $abc=nm+p$. Then $rc=mn+p-kcm = (n-kc)m+p$ hence the remainder is $p$. Furthermore $aq=nm+p-alm=(n-al)m+p$ hence the remainder is also $p$.\n",
    "\n",
    "As 0 and 1 we can use the standard numbers of arithmetic.\n",
    "\n",
    "This far we didn't need $m$ to be prime. Now let us check for the existence and uniqueness of the inverse element. For addition we can define as $-a\\equiv m-a$ which is always unique and adds up to $m$.\n",
    "\n",
    "For multiplication we need an element $a^{-1}$ such that $aa^{-1}=km+1$ for some integer $k$. Let us examine all the products $a\\cdot k$ for $k\\in\\mathcal{Z}_m$. We perform the division of each product with $m$ and get $ak=p_km+r_k$. Now, if two different integers $k,l\\in\\mathcal{Z}_m$ had the same remainder, i.e. if $r_k=r_l$, then $ak-p_km=al-p_lm$, hence $a(k-l)=(p_k-p_l)m$. If $m$ is prime, this means that at least one of $a$ or $k-l$ has $m$ in its prime factorization. However, this is impossible, since both are $<m$. Thus, all remainders are unique. If we have $m$ unique remainders that can only take the values $0,1,...,m-1$, this means that according to the pigeonhole principle they take on all these values, thus there exists one $k\\in\\mathcal{Z}_m$, such that $p_k=1$, which is the unique inverse element.\n",
    "\n",
    "Distributivity: $a(b+c)=p_{b+c}m+r_{b+c}$ and $ab+ac=p_bm+p_cm+r_b+r_c$. Let $r_b+r_c=km+r$. Thus $a\\odot(b+c)=r_{b+c}$ and $a\\odot b+a\\odot c=r$.\n",
    "\n",
    "$$\n",
    "\\begin{gather*}\n",
    "a(b+c)=p_{b+c}m+r_{b+c}\\\\\n",
    "ab+ac=p_bm+p_cm+km+r\n",
    "\\end{gather*}\n",
    "$$\n",
    "\n",
    "By subtracting both equalities we have $r_{b+c}-r=(p_b+p_c+k-p_{b+c})m$, and since both $r_{b+c}$ and $r$ belong to $\\mathcal{Z}_m$, their difference cannot be an integer multiple of $m$. Hence $r_{b+c}=r$.\n",
    "\n",
    "Inverse: If $\\mathcal{Z}_m$ is a field, the equation $a\\odot b=0$ cannot be satisfied if both $a$ and $b$ are nonzero. If $m$ were not prime, it would be the product of at least two non zero positive integers $a,b$. These integers must be both smaller than $m$, hence they belong to $\\mathcal{Z}_m$. This would mean that $ab=m$ and $a\\odot b=0$, which is a contradiction.\n",
    "\n",
    "Example: $-1$ in $\\mathcal{Z}_5$ is $4$, since $1+4=5$ and $1\\oplus 4=0$\n",
    "\n",
    "Example: We want to find $1/3$ in $\\mathcal{Z}_7$. We have $5\\cdot 3=15=2\\cdot 7+1$, hence $1/3=5$."
   ]
  },
  {
   "cell_type": "markdown",
   "id": "11",
   "metadata": {},
   "source": [
    "#### Exercise 4\n",
    "\n",
    "Prove that if one adds $1+1+1+\\dots$ and gets zero for the first time, the number of terms added is a prime number.\n",
    "\n",
    "Let \n",
    "$$\n",
    "s_m \\equiv \\underbrace{1+1+\\dots +1}_{m \\text{ times }}\n",
    "$$\n",
    "\n",
    "Also, let $s_n=0$ for some $n>1$. If $n$ is not prime, then it is the product of at least two integers larger than 1, i.e. $n=pq$ with $p>1$ and $q>1$. Thus\n",
    "$$\n",
    "s_n = \\underbrace{\\underbrace{(1+1+\\dots+1)}_{q \\text{ times }}+\\dots+\\underbrace{(1+1+\\dots+1)}_{q \\text{ times }}}_{p \\text{ times }} = 0\n",
    "$$\n",
    "We can rewrite this as\n",
    "$$\n",
    "\\underbrace{s_q+s_q+\\dots+s_q}_{p \\text{ times }}=0\n",
    "$$\n",
    "Taking the $s_q$ as common factor we write:\n",
    "$$\n",
    "s_q(\\underbrace{1+1+\\dots+1}_{p \\text{ times }})=0\n",
    "$$\n",
    "or $s_qs_p=0$. In a field this can be possible only if $s_q=0$ or $s_p=0$ (or both). This is a contradiction, since we assumed that $n$ (larger than $p$ and $q$) was the first integer for which $s_n=0$.\n",
    "$\\square$\n"
   ]
  },
  {
   "cell_type": "markdown",
   "id": "12",
   "metadata": {},
   "source": [
    "#### Exercise 5\n",
    "\n",
    "Let $\\mathbb{Q}(\\sqrt{2})$ be the set of all real numbers $a+b\\sqrt{2}$, where $a,b\\in\\mathbb{Q}$.\n",
    "\n",
    "(a) Is $\\mathbb{Q}(\\sqrt{2})$ a field?\n",
    "\n",
    "Defining addition and mutliplication via the usual operations of real numbers, i.e. the sum as $(a_1+a_2)+(b_1+b_2)\\sqrt{2}$ and the product as $(a_1a_2+2b_1b_2)+(a_1b_2+a_2b_1)\\sqrt{2}$ yields operations that satisfy commutativity, associativity and distributivity, easily verified.\n",
    "\n",
    "Defining the zero element as the regular 0 of the real numbers and the opposite of $a+b\\sqrt{2}$ as $(-a)+(-b)\\sqrt{2}$ yields a neutral element and a unique inverse for addition. Things become tricky only for multiplication. Let us define the neutral element as $1+0\\sqrt{2}$. We need a unique inverse for each $a+b\\sqrt{2}$. Let us define\n",
    "$$\n",
    "(a+b\\sqrt{2})^{-1}\\equiv \\frac{a-b\\sqrt{2}}{a^2-2b^2}\n",
    "$$\n",
    "Then, it is easily verified that for $ab\\neq 0$ this inverse exists always if $a,b$ rational, because the equation $a^2-2b^2=0$ is unsolvable (because $\\sqrt{2}$ is irrational and $a/b$ is rational)."
   ]
  },
  {
   "cell_type": "markdown",
   "id": "13",
   "metadata": {},
   "source": [
    "(b) If $a,b\\in\\mathbb{Z}$ the inverse of multiplication cannot defined in the above way, because the above formula does not yield an inverse $c+d\\sqrt{2}$ with $c,d$ integers always.\n",
    "\n",
    "Could we define multiplication in a different way? Well, since the set $a+b\\sqrt{2}$ is countable, we could find a bijection $f:\\mathbb{Z}^2\\to\\mathbb{Q}$ and redefine multiplication of $x_1=a_1+b_1\\sqrt{2}$ and $x_2=a_1+b_2\\sqrt{2}$ as $f^{-1}(f((a_1a_2+2b_1b_2)+(a_1b_2+a_2b_1)\\sqrt{2}))$ (see exercise 2c).\n",
    "I am not sure about the result though, I didn't have time to verify it."
   ]
  },
  {
   "cell_type": "markdown",
   "id": "14",
   "metadata": {},
   "source": [
    "#### Exercise 6\n",
    "\n",
    "Does the set of all polynomials with integer/real coefficients form a field?\n",
    "\n",
    "The main problem lies as always with multiplication, since there is no inverse for the polynomial $x$, whatever coefficients we use. (Unless we start our shenaningans with bijections between sets again...)"
   ]
  },
  {
   "cell_type": "markdown",
   "id": "15",
   "metadata": {},
   "source": [
    "#### Exercise 7\n",
    "(a)\n",
    "Let us consider all pairs in $\\mathbb{R}^2$ and define\n",
    "$$\n",
    "\\begin{gather*}\n",
    "(a,b)+(c,d)= (a+c, b+d)\\\\\n",
    "(a,b)(c,d)=(ac, bd)\n",
    "\\end{gather*}\n",
    "$$\n",
    "This cannot be a field, since $(a,0)\\cdot (0,b)=(0,0)$ even for $ab\\neq 0$."
   ]
  },
  {
   "cell_type": "markdown",
   "id": "16",
   "metadata": {},
   "source": [
    "(b) Let us redefine multiplication as\n",
    "$$\n",
    "(a,b)\\cdot (c,d)=(ac-bd, ad+bc)\n",
    "$$\n",
    "\n",
    "This is essentially the definition of complex number multiplication, and we already know that $\\mathbb{C}$ is a field."
   ]
  },
  {
   "cell_type": "markdown",
   "id": "17",
   "metadata": {},
   "source": [
    "(c) If we replace $\\mathbb{R}^2$ with $\\mathbb{C}^2$ in the preceding definitions, then:\n",
    "* For the first case we would still have null dividers, even if $a$ and $b$ are complex.\n",
    "* $(a,b)\\cdot(a,-b)=(a^2+b^2, 0)$\n",
    "\n",
    "If $a=\\pm ib$, the above product is zero, but the individual factors are not zero. Hence, it cannot be a field."
   ]
  },
  {
   "cell_type": "markdown",
   "id": "18",
   "metadata": {},
   "source": [
    "### Vector spaces"
   ]
  },
  {
   "cell_type": "markdown",
   "id": "19",
   "metadata": {},
   "source": [
    "#### Axioms"
   ]
  },
  {
   "cell_type": "markdown",
   "id": "20",
   "metadata": {},
   "source": [
    "Let $V$ be a set and $F$ be a field. Elements of $V$ are called vectors and will sometimes be denoted by bold lowercase letters ($\\bv{x}$). If there is no confusion possible, we will also use lowercase letters. Elements of $F$ will be called scalars and denoted by italic lowercase letters ($a$). We define two operations:\n",
    "* Addition in $V$: $+:V\\times V\\to V$\n",
    "* Multiplication of scalar with vector: $\\cdot: F\\times V\\to V$\n",
    "\n",
    "These operations have the following properties:\n",
    "* $(V,+)$ is a commutative group.\n",
    "* Associativity: $(ab)\\bv{x}=a(b\\bv{x})$\n",
    "* Multiplicative identity: $1\\bv{x}=\\bv{x}$\n",
    "* Distributivity:\n",
    "$$\n",
    "\\begin{gather*}\n",
    "a(\\bv{x}+\\bv{y})=a\\bv{x}+a\\bv{y}\\\\\n",
    "(a+b)\\bv{x}=a\\bv{x}+b\\bv{x}\n",
    "\\end{gather*}\n",
    "$$"
   ]
  },
  {
   "cell_type": "markdown",
   "id": "21",
   "metadata": {},
   "source": [
    "#### Exercise 1"
   ]
  },
  {
   "cell_type": "markdown",
   "id": "22",
   "metadata": {},
   "source": [
    "(a) Prove $0+\\bv{x}=\\bv{x}$\n",
    "\n",
    "Due to commutativity $0+\\bv{x}=\\bv{x}+0=\\bv{x}$. $\\square$"
   ]
  },
  {
   "cell_type": "markdown",
   "id": "23",
   "metadata": {},
   "source": [
    "(b) Prove $-0=0$\n",
    "\n",
    "We have $0+0=0$ and due to the definition of the opposite element in a group this means that $-0=0$. $\\square$"
   ]
  },
  {
   "cell_type": "markdown",
   "id": "24",
   "metadata": {},
   "source": [
    "(c) Prove $a0=0$\n",
    "First we are going to prove that $(-1)\\bv{x}=-\\bv{x}$.\n",
    "Indeed $\\bv{x}+(-1)\\bv{x}=1\\bv{x}+(-1)\\bv{x}=[1+(-1)]\\bv{x}=0\\bv{x}=0$.\n",
    "\n",
    "Thus\n",
    "$$\n",
    "\\begin{align*}\n",
    "a0 &= a(\\bv{x}-\\bv{x})=\\\\\n",
    "&= a\\bv{x}+a(-\\bv{x})=\\\\\n",
    "&= a\\bv{x}+a[(-1)\\bv{x}]=\\\\\n",
    "&= a\\bv{x}+[a(-1)]\\bv{x}=\\\\\n",
    "&= a\\bv{x}+(-a)\\bv{x}=\\\\\n",
    "&= [a+(-a)]\\bv{x}=\\\\\n",
    "&= 0\\bv{x}=\\\\\n",
    "&=0\\quad \\square\n",
    "\\end{align*}\n",
    "$$"
   ]
  },
  {
   "cell_type": "markdown",
   "id": "25",
   "metadata": {},
   "source": [
    "(d) Prove $0\\bv{x} = 0$.\n",
    "\n",
    "$$\n",
    "\\begin{align*}\n",
    "0\\bv{x} &= [1+(-1)]\\bv{x}=\\\\\n",
    "&= 1\\bv{x}+(-1)\\bv{x}=\\\\\n",
    "&= \\bv{x}+(-\\bv{x})=\\\\\n",
    "&=0\\quad\\square\n",
    "\\end{align*}\n",
    "$$"
   ]
  },
  {
   "cell_type": "markdown",
   "id": "26",
   "metadata": {},
   "source": [
    "(e) Prove $a\\bv{x}=0\\Rightarrow a=0\\vee\\bv{x}=0$.\n",
    "\n",
    "We have $a\\bv{x}=0$. There are two cases: either $a=0$ of $a\\neq 0$. If $a\\neq 0$, we can multiply both sides by $a^{-1}$ and use the previous axioms and $0\\bv{x}=0$ to arrive at $\\bv{x}=0$. $\\quad$"
   ]
  },
  {
   "cell_type": "markdown",
   "id": "27",
   "metadata": {},
   "source": [
    "(f) This was proven in (c)"
   ]
  },
  {
   "cell_type": "markdown",
   "id": "28",
   "metadata": {},
   "source": [
    "(e) $y+(x-y)=x$\n",
    "\n",
    "$$\n",
    "y+(x-y)=y+(-y+x)=(y+(-y))+x=0+x=x.\\quad\\square\n",
    "$$"
   ]
  },
  {
   "cell_type": "markdown",
   "id": "29",
   "metadata": {},
   "source": [
    "#### Exercise 2"
   ]
  },
  {
   "cell_type": "markdown",
   "id": "30",
   "metadata": {},
   "source": [
    "Let us consider the vector space $\\mathbb{Z}_p^n$ where $p$ is prime and $n\\in\\mathbb{N}^*$. We have $p$ possible values per coordinate, thus there are $p^n$ vectors in this vector space."
   ]
  },
  {
   "cell_type": "markdown",
   "id": "31",
   "metadata": {},
   "source": [
    "#### Exercise 3\n",
    "\n",
    "Let us conside $\\mathbb{R}^2$ as a potential vector space with all the usual operations except for scalar multiplication, which is defined as\n",
    "$$\n",
    "a(x,y)=(ax,0)\n",
    "$$\n",
    "\n",
    "Then $1(x,y)=(x,0)$ which is different from $(x,y)$ if $y\\neq 0$, hence it is not a vector space."
   ]
  },
  {
   "cell_type": "markdown",
   "id": "32",
   "metadata": {},
   "source": [
    "#### Exercise 4\n",
    "\n",
    "Consider the following subsets of $\\mathbb{C}^3$. Let us assume that Halmos means over the field $\\mathbb{C}$.\n",
    "\n",
    "(a) $z_1\\in\\mathbb{R}$. This is not a subspace since, if $a\\not\\in\\mathbb{R}$, the vector $a\\bv{v}$ does not belong to this subspace.\n",
    "\n",
    "(b) $z_1=0$. This subset is closed under the operations of vector addition and scalar multiplication. The zero vector also belongs to it. Hence it is a subspace.\n",
    "\n",
    "(c) $z_1z_2=0$. This subset is not closed under addition, since $(0,a,b)+(c,0,d)=(c,a,b+d)$ which for $ac\\neq 0$ does not belong to the subset.\n",
    "\n",
    "(d) $z_1+z_2=0$. If we add $(z_1,z_2,z_3)$ and $(w_1,w_2,w_3)$ we get that the sum of the first two elements of the sum is\n",
    "$$\n",
    "z_1+w_1+z_2+w_2=0.\n",
    "$$\n",
    "Moreover the sum of the two first elements of the product $a(z_1,z_2,z_3)$ is $az_1+az_2=a(z_1+z_2)=0$. Closedness under addition and multiplication has been proven. Moreover, the 0 element is also in this set. Hence it is a proper subspace.\n",
    "\n",
    "(e) $z_1+z_2=1$. We can see that the sum of two such vectors does not satisfy the condition, hence it is not a subspace."
   ]
  },
  {
   "cell_type": "markdown",
   "id": "33",
   "metadata": {},
   "source": [
    "#### Exercise 5\n",
    "\n",
    "Consider subsets of the vector space of polynomials $\\mathcal{P}$.\n",
    "\n",
    "(a) $p(x)$ has degree 3. This is not a subspace because the zero element does not exist. Also the sum of two elements could have lower degree.\n",
    "\n",
    "(b) $2p(0)=p(1)$. Closedness under addition:\n",
    "$$\n",
    "2(p_1(0)+p_2(0))=p_1(1)+p_2(1)\n",
    "$$\n",
    "Closedness under multiplication:\n",
    "$$\n",
    "2(ap(0))=a(2p(0))=ap(1)\n",
    "$$\n",
    "The zero polynomial satisfies the condition. Inverse element of addition is also in the subspace. Hence it is a proper subspace.\n",
    "\n",
    "(c) $p(x)\\geq 0$ for $x\\in[0,1]$. This is not closed under multiplication with negative numbers, hence it is not a subspace.\n",
    "\n",
    "(d) $p(x)=p(1-x)$ for all $x$. This is the set of all even polyonomials around $x=1/2$. Evenness is preserved under addition and multiplication by a scalar. The zero element is also even (with respect to all axes) and the opposite polynomial is also even. Hence this is a proper vector subspace."
   ]
  },
  {
   "cell_type": "markdown",
   "id": "34",
   "metadata": {},
   "source": [
    "### Vector bases"
   ]
  },
  {
   "cell_type": "markdown",
   "id": "35",
   "metadata": {},
   "source": [
    "#### Exercise of section 6\n",
    "\n",
    "If $\\{x_i\\}$ is linearly independent, $x$ is a linear combination of $\\{x_i\\}$ iff. the enlarged set is linearly dependent.\n",
    "\n",
    "If the enlarged set is linearly dependent, there exist scalars such that $a_0x+\\sum_{i=1}a_ix_i^n=0$. We must have $a_0\\neq 0$, because else the original set would be dependent, hence by dividing by $a_0$ we can express $x$ as a linear combination of the rest.\n",
    "\n",
    "If $x=\\sum_i b_ix_i$, it is obvious by rearanging the terms that the enlarged set is dependent."
   ]
  },
  {
   "cell_type": "markdown",
   "id": "36",
   "metadata": {},
   "source": [
    "#### Exercise 7.1\n",
    "\n",
    "(a) Prove that $e_1,e_2,e_3,e_1+e_2+e_3$ are linearly dependent but any three are linearly independent, where $e_1=(1,0,0), e_2=(0,1,0), e_3=(0,0,1)$.\n",
    "\n",
    "The fourth vector is the sum of the first three, thus proving dependence. The first three are linearly independent. Now let us look at an arbitrary combination of the last one with two of the first three. Let us examine the sum\n",
    "$$\n",
    "a\\sum_ie_i+b_ke_k+b_le_l=0.\n",
    "$$\n",
    "Since $e_i$ are independent, if we factor out the common vectors, we will have\n",
    "$$\n",
    "\\begin{gather*}\n",
    "a+e_k=0\\\\\n",
    "a+e_l=0\\\\\n",
    "a=0\n",
    "\\end{gather*}\n",
    "$$\n",
    "This gives all coefficients equal to zero, hence all combinations are linearly independent."
   ]
  },
  {
   "cell_type": "markdown",
   "id": "37",
   "metadata": {},
   "source": [
    "(b) Prove the same for $e_1=1$, $e_2=x$, $e_3=x^2$ and $e_4=e_1+e_2+e_3$.\n",
    "\n",
    "It is obvious that $e_1,e_2,e_3$ are linearly independent, since $a_1+a_2x+a_3x^2=0$ implies $a_1=a_2=a_3=0$. It is also obvious from the definition of $e_4$ that the set of the four vectors is dependent. The proof for any set $e_k,e_l,e_4$ with $k\\neq l $ and $k\\neq 4$, $l\\neq 4$ is exactly the same as in case (a)."
   ]
  },
  {
   "cell_type": "markdown",
   "id": "38",
   "metadata": {},
   "source": [
    "#### Exercise 7.2\n",
    "\n",
    "If we consider as $V=\\mathbb{R}$ and $F=\\mathbb{Q}$, let us find the condition for the vectors 1 and $x\\in\\mathbb{R}$ to be independent. \n",
    "\n",
    "If $x$ is rational it can be written as $p/q$, hence $qx+p1=0$, hence $x$ and $1$ would be dependent. Thus, if they are independent, $x$ can't be rational.\n",
    "\n",
    "If $x$ is irrational, there are no rationals $p,q$ such that $px+q=0$. If there where, $p$ would be nonzero (else $p=q=0$), which would mean that $x$ is rational."
   ]
  },
  {
   "cell_type": "markdown",
   "id": "39",
   "metadata": {},
   "source": [
    "#### Exercise 7.3\n",
    "\n",
    "If $x,y,z$ are linearly independent, what about $x+y$, y+z, z+x$?\n",
    "\n",
    "Let $a,b,c$ be such that $a(x+y)+b(y+z)+c(z+x)=0$. Then, due to the linear independence of $x,y,z$ we would have\n",
    "$$\n",
    "\\begin{gather*}\n",
    "a+c=0\\\\\n",
    "a+b=0\\\\\n",
    "b+c=0\n",
    "\\end{gather*}\n",
    "$$\n",
    "\n",
    "Subtracting the first two gives $b=c$, and from the third we get $b=c=0$, which also yields $a=0$. Hence, the three vectors are linearly independent."
   ]
  },
  {
   "cell_type": "markdown",
   "id": "40",
   "metadata": {},
   "source": [
    "#### Exercise 7.4\n",
    "\n",
    "(a) Let\n",
    "$$\n",
    "x=(1+z, 1-z), y = (1-z,1+z)\n",
    "$$\n",
    "be vectors in $\\mathbb{C}^2$. In order for them to be linearly dependent, we have to find $a,b$ such that\n",
    "$$\n",
    "\\begin{gather*}\n",
    "a(1+z)+b(1-z)=0\\\\\n",
    "a(1-z)+b(1+z)=0\n",
    "\\end{gather*}\n",
    "$$\n",
    "Adding the first two gives $a+b=0$. Subtracting them gives $z(a-b)=0$. If $z\\neq 0$, this would yield $a=b=0$, hence the vectors would be independent. Only for $z=0$ are the vectors dependent."
   ]
  },
  {
   "cell_type": "markdown",
   "id": "41",
   "metadata": {},
   "source": [
    "(b) Consider the vectors of $\\mathbb{R}^3$\n",
    "$$\n",
    "\\begin{gather*}\n",
    "v_1=(a,1,0)\\\\\n",
    "v_2=(1,a,1)\\\\\n",
    "v_3=(0,1,a)\n",
    "\\end{gather*}\n",
    "$$\n",
    "\n",
    "\n",
    "If the three vectors are linearly dependent, we have\n",
    "$$\n",
    "\\begin{gather*}\n",
    "ax+y=0\\\\\n",
    "x+ay+z=0\\\\\n",
    "y+az=0\n",
    "\\end{gather*}\n",
    "$$\n",
    "for $xyz\\neq 0$.\n",
    "\n",
    "If $a\\neq 0$, the first and third equations give $x=z$. Plug this into the second equation to get $2x+ay=0$ and combine it with the first to get $2x-a^2x=0$. Now, if $x=0$, this yields $z=0$ and $y=0$, which is not allowed. Hence $a^2=2$. If $a=0$, this gives $y=0$ and $x+z=0$. Thus, the three vectors are dependent iff. $a=0$ or $a=\\pm\\sqrt{2}$.\n",
    "\n",
    "(c) If the vectors of (b) belonged to $\\mathbb{Q}^3$, they would be dependent iff. $a=0$."
   ]
  },
  {
   "cell_type": "markdown",
   "id": "42",
   "metadata": {},
   "source": [
    "#### Exercise 7.5\n",
    "\n",
    "(a) Prove that vectors $v_1=(x_1,y_1)$ and $v_2=(x_2,y_2)$ in $\\mathbb{C}^2$ are linearly dependent iff $x_1y_2=x_2y_1$.\n",
    "\n",
    "If the vectors are linearly dependent, we have\n",
    "$$\n",
    "\\begin{gather*}\n",
    "ax_1+bx_2=0\\\\\n",
    "ay_1+by_2=0\n",
    "\\end{gather*}\n",
    "$$\n",
    "Now, multiply the first equation by $y_2$ and the second by $x_2$ and subtract them. You will get\n",
    "$$\n",
    "ax_1y_2+bx_2y_2-ay_1x_2-by_2x_2=0 \\Rightarrow a(x_1y_2-y_1x_2)=0\n",
    "$$\n",
    "If $a\\neq 0$, we have proven the relationship. If $a=0$, then by the definition of linear dependence $b\\neq 0$, which means that $x_2=y_2=0$, which satisfies the relation for any $(x_1,y_1)$\n",
    "\n",
    "Inverse: If $x_1y_2=x_2y_1$, we have $x_2v_1-x_1v_2=0$. If $x_1x_2\\neq 0$, we have proven linear dependence. If $x_1=x_2=0$, they are trivially dependent."
   ]
  },
  {
   "cell_type": "markdown",
   "id": "43",
   "metadata": {},
   "source": [
    "(b) For 2 vectors in $\\mathbb{C}^3$ I guess that the condition would be\n",
    "$$\n",
    "x_1y_2=y_1x_2\\wedge y_1z_2=z_1y_2\n",
    "$$\n",
    "but I am too lazy to prove it in detail.\n",
    "\n",
    "For 3 vectors in $\\mathbb{C}^3$ to be dependent, we need to have $a,b,c$ not all zero, such that\n",
    "$$\n",
    "\\begin{gather*}\n",
    "ax_1+bx_2+cx_3=0\\\\\n",
    "ay_1+by_2+cy_3=0\\\\\n",
    "az_1+bz_2+cz_3=0\n",
    "\\end{gather*}\n",
    "$$\n",
    "\n",
    "let us first solve the $2\\times 2$ system\n",
    "$$\n",
    "ax_1+bx_2=-cx_3\\\\\n",
    "ay_1+by_2=-cy_3\n",
    "$$\n",
    "\n",
    "Multiply the first by $y_2$, the second by $x_2$ and subtract to get\n",
    "$$\n",
    "\\begin{gather*}\n",
    "(x_1y_2-y_2x_1)a = c(-x_3y_2+y_3x_2)\\\\\n",
    "(x_1y_2-y_2x_1)b = c(-y_3x_1+x_3y_1)\n",
    "\\end{gather*}\n",
    "$$\n",
    "Multiply the third equation by $x_1y_2-y_2x_1$ to get\n",
    "$$\n",
    "c(-x_3y_2z_1+y_3x_2z_1-y_3x_1z_2+x_3y_1z_2+x_1y_2z_3-y_2x_1z_3)=0\n",
    "$$\n",
    "If $c\\neq 0$, we get the condition\n",
    "$$\n",
    "-x_3y_2z_1+y_3x_2z_1-y_3x_1z_2+x_3y_1z_2+x_1y_2z_3-y_2x_1z_3=0 \\qquad (1)\n",
    "$$\n",
    "If $c=0$, this means that the first two vectors are parallel and also that:\n",
    "\n",
    "\\begin{gather*}\n",
    "(x_1y_2-y_2x_1)a = 0\\\\\n",
    "(x_1y_2-y_2x_1)b = 0\n",
    "\\end{gather*}\n",
    "The factor $x_1y_2-y_2x_1$ must be zero, else $a=b=c=0$ contradicting our hypothesis.\n",
    "\n",
    "Now let us check the validity of (1) which collapses to \n",
    "$$\n",
    "y_3(x_2z_1-x_1z_2)+x_3(y_1z_2-z_1y_2)=0 \\qquad (1')\n",
    "$$\n",
    "Due to the fact that vectors 1 and 2 are parallel, the quantities in the brackets are zero. Hence (1) holds in general.\n",
    "\n",
    "Inverse: Let (1) hold. If 1 and 2 are parallel, we have proven that they are linearly dependent. Let 1 and 2 be non parallel. We will try to express vector 3 as a linear combination of 1 and 2, i.e. we need to find $a,b$ such that\n",
    "$$\n",
    "\\begin{gather*}\n",
    "ax_1+bx_2=x_3\\\\\n",
    "ay_1+by_2=y_3\\\\\n",
    "az_1+bz_2=z_3\n",
    "\\end{gather*}\n",
    "$$\n",
    "Let $x_1y_2\\neq x_2y_1$. Then\n",
    "$$\n",
    "\\begin{gather*}\n",
    "a = \\frac{x_3y_2-y_3x_2}{x_1y_2-x_2y_1}\\\\\n",
    "b = \\frac{y_3x_1-x_3y_1}{x_1y_2-x_2y_1}\n",
    "\\end{gather*}\n",
    "$$\n",
    "and we need to verify the third equation:\n",
    "$$\n",
    "(x_3y_2-y_3x_2)z_1+(y_3x_1-x_3y_1)z_3=z_3(x_1y_2-x_2y_1)\n",
    "$$\n",
    "which is equivalent to (1). I hope that similarly the case $x_1z_2\\neq x_2z_1$ can be handled."
   ]
  },
  {
   "cell_type": "markdown",
   "id": "44",
   "metadata": {},
   "source": [
    "(c) Three linearly independent vectors in $\\mathbb{C}^2$ cannot exist. Let us find $a,b$ such that $v_3=av_1+bv_2$.\n",
    "$$\n",
    "\\begin{gather*}\n",
    "x_3=ax_1+bx_2\\\\\n",
    "y_3=ay_1+by_2\n",
    "\\end{gather*}\n",
    "$$\n",
    "Multiply the first by $y_2$ and the second by $x_2$ and subtract them. From part (a) of the exercise we know that $x_1y_2\\neq x_1y_2$ (due to independence of $v_1,v_2$). Thus we can find $a$. The second coefficient can be found if we multiply the first equation by $y_1$ and the second by $x_1$ and subtract them. Thus, by having found $a$ and $b$, we have proven that $v_3$ can be written as a linear combination of $v_1$ and $v_2$."
   ]
  },
  {
   "cell_type": "markdown",
   "id": "45",
   "metadata": {},
   "source": [
    "#### Exercise 7.6\n",
    "\n",
    "(a) Under which conditions are $(1,a)$ and $(1,b)$ linearly dependent in $\\mathbb{C}^2$?\n",
    "\n",
    "We need to fulfill $1\\cdot b = a\\cdot 1\\Leftrightarrow a=b$\n",
    "\n",
    "(b) Under which conditions are $(1,x,x^2)$ , $(1,y,y^2)$ and $(1,z,z^2)$ linearly dependent?\n",
    "\n",
    "We have the linear system for $a,b,c\\in\\mathbb{C}$:\n",
    "$$\n",
    "\\begin{gather*}\n",
    "a+b+c=0\\\\\n",
    "ax+by+cz=0\\\\\n",
    "ax^2+by^2+cz^2=0\n",
    "\\end{gather*}\n",
    "$$\n",
    "\n",
    "By scaled subtraction of the first equation from the second and third we get:\n",
    "$$\n",
    "\\begin{gather*}\n",
    "b(y-x)+c(z-x)=0\\\\\n",
    "b(y^2-x^2)+c(z^2-x^2)=0\n",
    "\\end{gather*}\n",
    "$$\n",
    "\n",
    "Finally, by multiplying the first of the above by $(y+x)$ and subtracting from the third, we get\n",
    "$$\n",
    "c(z^2-x^2-(z-x)(y+x))=0\n",
    "$$\n",
    "Let us first consider the case $c\\neq 0$. Then we have\n",
    "$$\n",
    "(z-x)(z-y)=0\n",
    "$$\n",
    "This means that either $z=x$ or $z=y$. The inverse (i.e. if $z=x$ or $z=y$ induces linear dependence) is obvious, since two of the three vectors are identical.\n",
    "\n",
    "If $c=0$ we can repeat the same procedure and arrive at $b(y-x)(y-z)=0$. If $b\\neq 0$ we get $y=x$ or $y=z$. By the way, if $c=0$, then $b\\neq 0$, since $b=c=0$ would imply $a=0$, contrary to the assumption of linear dependence.\n",
    "\n",
    "Final conclusion: we need to have $(x-y)(z-y)(x-z)=0$."
   ]
  },
  {
   "cell_type": "markdown",
   "id": "46",
   "metadata": {},
   "source": [
    "(c) Generalization: If $v_k\\equiv (1,x_i, x_i^2, \\dots, x_i^{n-1})\\in\\mathbb{C}^n$, $i=1,2,\\dots,n$ are linearly dependent, then there exists at least one pair $k\\neq l$ such that $x_k=x_l$.\n",
    "\n",
    "Proof: Let $v_k$ be linearly dependent. Then the following system of equations for coefficients $a_1, a_2,\\dots,a_n$ has a solution with at least one non zero element:\n",
    "\n",
    "$$\n",
    "\\begin{align*}\n",
    "& a_1 + & a_2 &+\\dots + & a_n&=0\\quad (1)\\\\\n",
    "& a_1x_1 + & a_2x_2 &+\\dots + & a_nx_n&=0\\quad (2)\\\\\n",
    "& a_1x_1^2 + & a_2x_2^2 &+\\dots &+a_nx_n^2&=0\\quad (3)\\\\\n",
    "&\\vdots\\\\\n",
    "& a_1x_1^{n-1} &+a_2x_2^{n-1} &+\\dots &+a_nx_n^{n-1}&=0\\quad (n)\n",
    "\\end{align*}\n",
    "$$"
   ]
  },
  {
   "cell_type": "markdown",
   "id": "47",
   "metadata": {},
   "source": [
    "$(1)\\times x_1-(2)$ :\n",
    "$$\n",
    "\\sum_{k=2}^n a_k(x_k-x_1)=0\\qquad (1')\n",
    "$$"
   ]
  },
  {
   "cell_type": "markdown",
   "id": "48",
   "metadata": {},
   "source": [
    "$(2)\\times x_1-(3)$\n",
    "$$\n",
    "\\sum_{k=2}^n a_kx_k(x_k-x_1)=0 \\qquad (2')\n",
    "$$"
   ]
  },
  {
   "cell_type": "markdown",
   "id": "49",
   "metadata": {},
   "source": [
    "$(3)\\times x_1-(4)$:\n",
    "$$\n",
    "\\sum_{k=2}^na_kx_k^2(x_k-x_1)=0 \\qquad (3')\n",
    "$$"
   ]
  },
  {
   "cell_type": "markdown",
   "id": "50",
   "metadata": {},
   "source": [
    "$(1')\\times x_2-(2')$:\n",
    "$$\n",
    "\\sum_{k=3}^na_k(x_k-x_1)(x_k-x_2)=0\\qquad (1'')\n",
    "$$"
   ]
  },
  {
   "cell_type": "markdown",
   "id": "51",
   "metadata": {},
   "source": [
    "$(2')\\times x_2-(3')$ gives:\n",
    "$$\n",
    "\\sum_{k=3}^n a_kx_k(x_k-x_2)(x_k-x_1)=0 \\qquad (2'')\n",
    "$$"
   ]
  },
  {
   "cell_type": "markdown",
   "id": "52",
   "metadata": {},
   "source": [
    "$(1'')\\times x_3-(2'')$ gives\n",
    "$$\n",
    "\\sum_{k=4}^na_k(x_k-x_1)(x_k-x_2)(x_k-x_3)=0 \\quad (1''')\n",
    "$$"
   ]
  },
  {
   "cell_type": "markdown",
   "id": "53",
   "metadata": {},
   "source": [
    "Let us prove the general formula by induction. We define the equation $(i_{j+1})$ as $(i_{j})\\times x_j -((i+1)_{j})$ where $j$ is the step of the process and $i$ is the number of the equation. We also define $(i_0)=(i)$, i.e. the initial equations. We need to prove that at stage $j$ the $(i_{j+1})$ equation is\n",
    "$$\n",
    "\\sum_{k=j+1}^n a_k x_k^{i-1}(x_k-x_1)(x_k-x_2)\\cdots (x_k-x_j)=0 \\qquad (i_{j+1})\n",
    "$$\n",
    "given that $(i_j)$ relations hold for all $i$.\n",
    "\n"
   ]
  },
  {
   "cell_type": "markdown",
   "id": "54",
   "metadata": {},
   "source": [
    "Indeed, $(i_{j})\\times x_j$ is\n",
    "$$\n",
    "\\sum_{k=j}^n a_k x_k^{i-1}x_j(x_k-x_1)(x_k-x_2)\\cdots (x_k-x_{j-1})=0 \n",
    "$$\n",
    "and $(i+1)_j$ is\n",
    "$$\n",
    "\\sum_{k=j}^n a_k x_k^i(x_k-x_1)(x_k-x_2)\\cdots (x_k-x_{j-1})=0\n",
    "$$\n",
    "If we subtract the above two equations, we get\n",
    "$$\n",
    "\\sum_{k=j+1}^n a_k x_k^{i-1}(x_k-x_1)(x_k-x_2)\\cdots (x_k-x_{j-1})(x_k-x_j)=0\n",
    "$$\n"
   ]
  },
  {
   "cell_type": "markdown",
   "id": "55",
   "metadata": {},
   "source": [
    "For $j=1$ we can easily prove the formula $\\sum_{k=2}a_kx_k^{i-1}(x_k-x_1)=0$ by multiplying $(i)$ by $x_1$ and subtracting from $(i+1)$."
   ]
  },
  {
   "cell_type": "markdown",
   "id": "56",
   "metadata": {},
   "source": [
    "Now, let $a_M$ be the last non zero coefficient of the original linear combination (i.e. $a_k=0$ for all $k>M$). For $j=M-1$ and $i=1$ we have\n",
    "$$\n",
    "a_M(x_M-x_1)\\cdots (x_M-x_{M-1})=0\n",
    "$$\n",
    "which means that $x_M=x_1$ or $x_{M+1}=x_1$ etc. $\\square$"
   ]
  },
  {
   "cell_type": "markdown",
   "id": "57",
   "metadata": {},
   "source": []
  }
 ],
 "metadata": {
  "kernelspec": {
   "display_name": "simnibs_env",
   "language": "python",
   "name": "python3"
  },
  "language_info": {
   "codemirror_mode": {
    "name": "ipython",
    "version": 3
   },
   "file_extension": ".py",
   "mimetype": "text/x-python",
   "name": "python",
   "nbconvert_exporter": "python",
   "pygments_lexer": "ipython3",
   "version": "3.9.18"
  }
 },
 "nbformat": 4,
 "nbformat_minor": 5
}
