{
 "cells": [
  {
   "cell_type": "markdown",
   "id": "0",
   "metadata": {},
   "source": [
    "$$\n",
    "\\renewcommand{\\R}{\\mathbb{R}}\n",
    "\\newcommand{\\inner}[2]{\\langle #1, #2 \\rangle}\n",
    "\\newcommand{\\un}[1]{\\hat{\\mathrm{#1}}}\n",
    "\\newcommand{\\bv}[1]{\\mathrm{#1}}\n",
    "\\newcommand{\\norm}[1]{\\left\\|{#1}\\right\\|}\n",
    "$$\n"
   ]
  },
  {
   "cell_type": "markdown",
   "id": "1",
   "metadata": {},
   "source": [
    "# Finite Dimensional Vector Spaces"
   ]
  },
  {
   "cell_type": "markdown",
   "id": "2",
   "metadata": {},
   "source": [
    "## Chapter 1"
   ]
  },
  {
   "cell_type": "markdown",
   "id": "3",
   "metadata": {},
   "source": [
    "### Fields"
   ]
  },
  {
   "cell_type": "markdown",
   "id": "4",
   "metadata": {},
   "source": [
    "### Fields\n",
    "\n",
    "**Axioms**:\n",
    "* $a+b=b+a$\n",
    "* $a+(b+c)=(a+b)+c$\n",
    "* $\\exists \\text{ unique element } 0: a+0=a$, $\\forall a\\in F$\n",
    "* $\\forall a\\in F$ there is a unique element symbolized $-a\\in F$ such that $a+(-a)=0$\n",
    "* $ab=ba$\n",
    "* $a(bc)=(ab)c$\n",
    "* $\\exists \\text{ unique element 1 }: a1=a, \\forall a\\in F$\n",
    "* $\\forall a\\neq0$ there is a unique element $a^{-1}\\equiv 1/a$ such that $aa^{-1}=1$.\n",
    "* $a(b+c)=ab+ac$"
   ]
  },
  {
   "cell_type": "markdown",
   "id": "5",
   "metadata": {},
   "source": [
    "#### Exercise 1"
   ]
  },
  {
   "cell_type": "markdown",
   "id": "6",
   "metadata": {},
   "source": [
    "(a) Prove that $0+a=a$.\n",
    "\n",
    "We have $0+a=a+0=a$. $\\square$\n",
    "\n",
    "(b) Prove that $a+b=a+c\\Rightarrow b=c$.\n",
    "\n",
    "$$\n",
    "\\begin{align*}\n",
    "b &= 0+b=\\\\\n",
    "&= [(-a)+a]+b=\\\\\n",
    "&= (-a)+(a+b)=\\\\\n",
    "&= (-a)+(a+c)=\\\\\n",
    "&= [(-a)+a]+c=\\\\\n",
    "&= 0+c=\\\\\n",
    "&=c.\\quad\\square\n",
    "\\end{align*}\n",
    "$$\n",
    "\n",
    "(c) Prove that $a+(b-a)=b$\n",
    "\n",
    "$$\n",
    "a+(b-a)=a+[(-a)+b]=[a+(-a)]+b=0+b=b.\\quad\\square\n",
    "$$\n",
    "\n",
    "(d) Prove that $0\\cdot a =a\\cdot 0=0$.\n",
    "\n",
    "For an arbitrary $b\\in F$ we have\n",
    "\n",
    "$$\n",
    "\\begin{gather*}\n",
    "a\\cdot 0=(-a+a)+a0=(-a+a1)+a0=-a+(a1+a0)=\\\\\n",
    "=-a+a(1+0)=-a+a1=-a+a=0\n",
    "\\end{gather*}\n",
    "$$\n",
    "\n",
    "Moreover $0a=a0=0$. $\\square$\n",
    "\n",
    "(e) Prove that $(-1)a=-a$.\n",
    "\n",
    "$$\n",
    "(-1)a+a=a(-1)+a1=a[(-1)+1]=a0=0,\n",
    "$$\n",
    "\n",
    "hence the unique opposite of $a$, noted as $-a$ is equal to $(-1)a$. $\\square$\n",
    "\n",
    "(f) Prove that $(-a)(-b)=ab$.\n",
    "\n",
    "$$\n",
    "(-a)(-b)=[a(-1)](- b )=a[(-1)(-b)]=a(-(-b))=ab\\quad\\square\n",
    "$$\n",
    "\n",
    "(g) Prove that if $ab=0$ then $a=0$ or $b=0$ or both.\n",
    "\n",
    "If $a\\neq 0$, there is $a^{-1}$ such that $aa^{-1}=1$. Hence\n",
    "\n",
    "$$\n",
    "b = 1b = (aa^{-1})b = (a^{-1}a)b=a^{-1}(ab)=a^{-1}0=0.\n",
    "$$\n",
    "\n",
    "Likewise, if $b\\neq 0$ we can prove that $a=0$. $\\square$"
   ]
  },
  {
   "cell_type": "markdown",
   "id": "7",
   "metadata": {},
   "source": [
    "#### Exercise 2\n",
    "\n",
    "(a) Is the set of all positive integers a field?\n",
    "\n",
    "No, since there is no opposite element for addition except for 0.\n",
    "\n",
    "(b) Is the set of all integers a field?\n",
    "\n",
    "No, since there is no inverse element for multiplication, except for 1.\n",
    "\n",
    "(c) Can the answer to these questions be changed if we redefine addition or multiplication or both?\n",
    "\n",
    "We know that there is a bijection between $\\mathbb{N}^*$ and $\\mathbb{Q}$, since both sets are countable. Let $f$ be the bijection $f:\\mathbb{N}^*\\to\\mathbb{Q}$"
   ]
  },
  {
   "cell_type": "markdown",
   "id": "8",
   "metadata": {},
   "source": [
    "We define addition and multiplication in $\\mathbb{N}^*$ as\n",
    "$$\n",
    "\\begin{align*}\n",
    "a\\oplus b = f^{-1}(f(a)+f(b))\\\\\n",
    "a\\odot b = f^{-1}(f(ab))\n",
    "\\end{align*}\n",
    "$$\n",
    "Commutativity is obvious. Let's check for associativity:\n",
    "\n",
    "$$\n",
    "a\\oplus(b\\oplus c)=f^{-1}(f(a)+f(f^{-1}(f(b)+f(c))))=f^{-1}(f(a)+f(b)+f(c))=(a\\oplus b)\\oplus c\n",
    "$$\n",
    "\n",
    "The same argument holds for mutliplication.\n",
    "\n",
    "We define the neutral elements as $O=f^{-1}(0)$ and $I=f^{-1}(1)$. We have\n",
    "$$\n",
    "O\\oplus n = f^{-1}(f(f^{-1}(0))+f(n))=f^{-1}(0+f(n))=n\n",
    "$$\n",
    "Existence of inverse element:\n",
    "$$\n",
    "f^{-1}(-f(n))\\oplus n = f^{-1}(f(f^{-1}(-f(n)))+f(n))=f^{-1}(-f(n)+f(n))=f^{-1}(0)=O.\n",
    "$$\n",
    "\n",
    "Similar arguments should hold for multiplication, but I don't have the time to verify them.\n",
    "\n",
    "Finally, distributivity:\n",
    "$$\n",
    "a\\odot(b\\oplus c) = f^{-1}(f(a)f(b\\oplus c))=f^{-1}(f(a)f(f^{-1}(f(b)+f(c)))=f^{-1}(f(a)(f(b)+f(c)))=f^{-1}(f(a)f(b)+f(b)f(c))\n",
    "$$\n",
    "\n",
    "$$\n",
    "(a\\odot b)\\oplus (a\\odot c) = f^{-1}(f((a\\odot b)+f((a\\odot b))=f^{-1}(f(a)f(b)+f(b)f(c))\n",
    "$$\n",
    "Thus distributivity holds too. Therefore by redefining addition and multiplication in the above manner (creating an isomorphism between any countable set and $\\mathbb{Q}$) we can create a field for any countable set."
   ]
  },
  {
   "cell_type": "markdown",
   "id": "9",
   "metadata": {},
   "source": [
    "#### Exercise 3\n",
    "$\\mathcal{Z}_m=\\{0,1,2,\\dots, m-1\\}$, with $a\\oplus b=(a+b)\\mod m$ and $a\\odot b=ab\\mod m$. Prove that $\\mathcal{Z}_m$ is a field if and only if $m$ is prime.\n",
    "\n",
    "Commutativity is evident both for multiplication and addition for any $m$. \n",
    "\n",
    "Associativity: let $a+b=km+r$ and $b+c=lm+q$. We have $r+c= a+b-km+c$ and $a+q=a+b+c-lm$. Let $a+b+c=nm+p$. Then $r+c = (n-k)m+p$ and the least positive remainder is $p$. Same, for $a+q=(n-l)m+p$ the least positive remainder is $p$\n",
    "\n",
    "For multiplication let $ab=km+r$ and $bc=lm+q$. We have rc = (ab-km)c=abc-kmc$ and $aq = a(bc-lm)=abc-alm$. Now, let $abc=nm+p$. Then $rc=mn+p-kcm = (n-kc)m+p$ hence the remainder is $p$. Furthermore $aq=nm+p-alm=(n-al)m+p$ hence the remainder is also $p$.\n",
    "\n",
    "As 0 and 1 we can use the standard numbers of arithmetic.\n",
    "\n",
    "This far we didn't need $m$ to be prime. Now let us check for the existence and uniqueness of the inverse element. For addition we can define as $-a\\equiv m-a$ which is always unique and adds up to $m$.\n",
    "\n",
    "For multiplication we need an element $a^{-1}$ such that $aa^{-1}=km+1$ for some integer $k$. Let us examine all the products $a\\cdot k$ for $k\\in\\mathcal{Z}_m$. We perform the division of each product with $m$ and get $ak=p_km+r_k$. Now, if two different integers $k,l\\in\\mathcal{Z}_m$ had the same remainder, i.e. if $r_k=r_l$, then $ak-p_km=al-p_lm$, hence $a(k-l)=(p_k-p_l)m$. If $m$ is prime, this means that at least one of $a$ or $k-l$ has $m$ in its prime factorization. However, this is impossible, since both are $<m$. Thus, all remainders are unique. If we have $m$ unique remainders that can only take the values $0,1,...,m-1$, this means that according to the pigeonhole principle they take on all these values, thus there exists one $k\\in\\mathcal{Z}_m$, such that $p_k=1$, which is the unique inverse element.\n",
    "\n",
    "Distributivity: $a(b+c)=p_{b+c}m+r_{b+c}$ and $ab+ac=p_bm+p_cm+r_b+r_c$. Let $r_b+r_c=km+r$. Thus $a\\odot(b+c)=r_{b+c}$ and $a\\odot b+a\\odot c=r$.\n",
    "\n",
    "$$\n",
    "\\begin{gather*}\n",
    "a(b+c)=p_{b+c}m+r_{b+c}\\\\\n",
    "ab+ac=p_bm+p_cm+km+r\n",
    "\\end{gather*}\n",
    "$$\n",
    "\n",
    "By subtracting both equalities we have $r_{b+c}-r=(p_b+p_c+k-p_{b+c})m$, and since both $r_{b+c}$ and $r$ belong to $\\mathcal{Z}_m$, their difference cannot be an integer multiple of $m$. Hence $r_{b+c}=r$.\n",
    "\n",
    "Inverse: If $\\mathcal{Z}_m$ is a field, the equation $a\\odot b=0$ cannot be satisfied if both $a$ and $b$ are nonzero. If $m$ were not prime, it would be the product of at least two non zero positive integers $a,b$. These integers must be both smaller than $m$, hence they belong to $\\mathcal{Z}_m$. This would mean that $ab=m$ and $a\\odot b=0$, which is a contradiction.\n",
    "\n",
    "Example: $-1$ in $\\mathcal{Z}_5$ is $4$, since $1+4=5$ and $1\\oplus 4=0$\n",
    "\n",
    "Example: We want to find $1/3$ in $\\mathcal{Z}_7$. We have $5\\cdot 3=15=2\\cdot 7+1$, hence $1/3=5$."
   ]
  },
  {
   "cell_type": "markdown",
   "id": "10",
   "metadata": {},
   "source": [
    "#### Exercise 4\n",
    "\n",
    "Prove that if one adds $1+1+1+\\dots$ and gets zero for the first time, the number of terms added is a prime number.\n",
    "\n",
    "Let \n",
    "$$\n",
    "s_m \\equiv \\underbrace{1+1+\\dots +1}_{m \\text{ times }}\n",
    "$$\n",
    "\n",
    "Also, let $s_n=0$ for some $n>1$. If $n$ is not prime, then it is the product of at least two integers larger than 1, i.e. $n=pq$ with $p>1$ and $q>1$. Thus\n",
    "$$\n",
    "s_n = \\underbrace{\\underbrace{(1+1+\\dots+1)}_{q \\text{ times }}+\\dots+\\underbrace{(1+1+\\dots+1)}_{q \\text{ times }}}_{p \\text{ times }} = 0\n",
    "$$\n",
    "We can rewrite this as\n",
    "$$\n",
    "\\underbrace{s_q+s_q+\\dots+s_q}_{p \\text{ times }}=0\n",
    "$$\n",
    "Taking the $s_q$ as common factor we write:\n",
    "$$\n",
    "s_q(\\underbrace{1+1+\\dots+1}_{p \\text{ times }})=0\n",
    "$$\n",
    "or $s_qs_p=0$. In a field this can be possible only if $s_q=0$ or $s_p=0$ (or both). This is a contradiction, since we assumed that $n$ (larger than $p$ and $q$) was the first integer for which $s_n=0$.\n",
    "$\\square$\n"
   ]
  },
  {
   "cell_type": "markdown",
   "id": "11",
   "metadata": {},
   "source": [
    "#### Exercise 5\n",
    "\n",
    "Let $\\mathbb{Q}(\\sqrt{2})$ be the set of all real numbers $a+b\\sqrt{2}$, where $a,b\\in\\mathbb{Q}$.\n",
    "\n",
    "(a) Is $\\mathbb{Q}(\\sqrt{2})$ a field?\n",
    "\n",
    "Defining addition and mutliplication via the usual operations of real numbers, i.e. the sum as $(a_1+a_2)+(b_1+b_2)\\sqrt{2}$ and the product as $(a_1a_2+2b_1b_2)+(a_1b_2+a_2b_1)\\sqrt{2}$ yields operations that satisfy commutativity, associativity and distributivity, easily verified.\n",
    "\n",
    "Defining the zero element as the regular 0 of the real numbers and the opposite of $a+b\\sqrt{2}$ as $(-a)+(-b)\\sqrt{2}$ yields a neutral element and a unique inverse for addition. Things become tricky only for multiplication. Let us define the neutral element as $1+0\\sqrt{2}$. We need a unique inverse for each $a+b\\sqrt{2}$. Let us define\n",
    "$$\n",
    "(a+b\\sqrt{2})^{-1}\\equiv \\frac{a-b\\sqrt{2}}{a^2-2b^2}\n",
    "$$\n",
    "Then, it is easily verified that for $ab\\neq 0$ this inverse exists always if $a,b$ rational, because the equation $a^2-2b^2=0$ is unsolvable (because $\\sqrt{2}$ is irrational and $a/b$ is rational)."
   ]
  },
  {
   "cell_type": "markdown",
   "id": "12",
   "metadata": {},
   "source": [
    "(b) If $a,b\\in\\mathbb{Z}$ the inverse of multiplication cannot defined in the above way, because the above formula does not yield an inverse $c+d\\sqrt{2}$ with $c,d$ integers always.\n",
    "\n",
    "Could we define multiplication in a different way? Well, since the set $a+b\\sqrt{2}$ is countable, we could find a bijection $f:\\mathbb{Z}^2\\to\\mathbb{Q}$ and redefine multiplication of $x_1=a_1+b_1\\sqrt{2}$ and $x_2=a_1+b_2\\sqrt{2}$ as $f^{-1}(f((a_1a_2+2b_1b_2)+(a_1b_2+a_2b_1)\\sqrt{2}))$ (see exercise 2c).\n",
    "I am not sure about the result though, I didn't have time to verify it."
   ]
  },
  {
   "cell_type": "markdown",
   "id": "13",
   "metadata": {},
   "source": [
    "#### Exercise 6\n",
    "\n",
    "Does the set of all polynomials with integer/real coefficients form a field?\n",
    "\n",
    "The main problem lies as always with multiplication, since there is no inverse for the polynomial $x$, whatever coefficients we use. (Unless we start our shenaningans with bijections between sets again...)"
   ]
  },
  {
   "cell_type": "markdown",
   "id": "14",
   "metadata": {},
   "source": [
    "#### Exercise 7\n",
    "(a)\n",
    "Let us consider all pairs in $\\mathbb{R}^2$ and define\n",
    "$$\n",
    "\\begin{gather*}\n",
    "(a,b)+(c,d)= (a+c, b+d)\\\\\n",
    "(a,b)(c,d)=(ac, bd)\n",
    "\\end{gather*}\n",
    "$$\n",
    "This cannot be a field, since $(a,0)\\cdot (0,b)=(0,0)$ even for $ab\\neq 0$."
   ]
  },
  {
   "cell_type": "markdown",
   "id": "15",
   "metadata": {},
   "source": [
    "(b) Let us redefine multiplication as\n",
    "$$\n",
    "(a,b)\\cdot (c,d)=(ac-bd, ad+bc)\n",
    "$$\n",
    "\n",
    "This is essentially the definition of complex number multiplication, and we already know that $\\mathbb{C}$ is a field."
   ]
  },
  {
   "cell_type": "markdown",
   "id": "16",
   "metadata": {},
   "source": [
    "(c) If we replace $\\mathbb{R}^2$ with $\\mathbb{C}^2$ in the preceding definitions, then:\n",
    "* For the first case we would still have null dividers, even if $a$ and $b$ are complex.\n",
    "* $(a,b)\\cdot(a,-b)=(a^2+b^2, 0)$\n",
    "\n",
    "If $a=\\pm ib$, the above product is zero, but the individual factors are not zero. Hence, it cannot be a field."
   ]
  }
 ],
 "metadata": {
  "kernelspec": {
   "display_name": "simnibs_env",
   "language": "python",
   "name": "python3"
  },
  "language_info": {
   "codemirror_mode": {
    "name": "ipython",
    "version": 3
   },
   "file_extension": ".py",
   "mimetype": "text/x-python",
   "name": "python",
   "nbconvert_exporter": "python",
   "pygments_lexer": "ipython3",
   "version": "3.9.18"
  }
 },
 "nbformat": 4,
 "nbformat_minor": 5
}
